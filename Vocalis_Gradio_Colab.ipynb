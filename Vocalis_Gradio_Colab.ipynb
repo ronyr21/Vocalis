{
 "nbformat": 4,
 "nbformat_minor": 0,
 "metadata": {
  "colab": {
   "authors": [],
   "name": "Vocalis Gradio Interface Launcher",
   "provenance": []
  },
  "kernelspec": {
   "name": "python3",
   "display_name": "Python 3"
  },
  "language_info": {
   "name": "python"
  }
 },
 "cells": [
  {
   "cell_type": "markdown",
   "source": [
    "# Vocalis AI Assistant: Gradio Interface Launcher\n",
    "This notebook will help you set up and run the Vocalis AI assistant, which features a Python backend and a Gradio user interface."
   ],
   "metadata": {
    "id": "intro_markdown"
   }
  },
  {
   "cell_type": "markdown",
   "source": [
    "## Step 1: Clone the Repository"
   ],
   "metadata": {
    "id": "clone_repo_markdown"
   }
  },
  {
   "cell_type": "code",
   "execution_count": null,
   "metadata": {
    "id": "clone_repo_code"
   },
   "outputs": [],
   "source": [
    "!git clone https://github.com/your-repo-url/Vocalis.git # Replace with actual repo URL\n",
    "%cd Vocalis"
   ]
  },
  {
   "cell_type": "markdown",
   "source": [
    "## Step 2: Install Dependencies\n",
    "This will install dependencies for both the backend and the Gradio frontend."
   ],
   "metadata": {
    "id": "install_deps_markdown"
   }
  },
  {
   "cell_type": "code",
   "execution_count": null,
   "metadata": {
    "id": "install_deps_code"
   },
   "outputs": [],
   "source": [
    "!pip install -r backend/requirements.txt\n",
    "!pip install gradio websockets"
   ]
  },
  {
   "cell_type": "markdown",
   "source": [
    "## Step 3: Launch the FastAPI Backend\n",
    "This command will start the Python backend server. It will run in the background.\n",
    "**Important:** Wait for this cell to show output indicating the server has started (e.g., Uvicorn running on http://127.0.0.1:8000) before proceeding to the next step. You might see continuous logging from the backend here."
   ],
   "metadata": {
    "id": "launch_backend_markdown"
   }
  },
  {
   "cell_type": "code",
   "execution_count": null,
   "metadata": {
    "id": "launch_backend_code",
    "colab": {
     "background_execution": true
    }
   },
   "outputs": [],
   "source": [
    "# Ensure environment variables like PYTHONUNBUFFERED are set for logging if needed\n",
    "# The backend is configured to run on port 8000 by default.\n",
    "!python -m backend.main"
   ]
  },
  {
   "cell_type": "markdown",
   "source": [
    "## Step 4: Launch the Gradio Frontend\n",
    "This command will start the Gradio user interface.\n",
    "Once executed, it will provide a public URL (if `share=True` is enabled in `gradio_app.py` and it works in Colab) or a local URL. Click on the URL to open the interface in a new tab.\n",
    "**Note:** The Gradio app might take a moment to start up. The backend from Step 3 must be running."
   ],
   "metadata": {
    "id": "launch_frontend_markdown"
   }
  },
  {
   "cell_type": "code",
   "execution_count": null,
   "metadata": {
    "id": "launch_frontend_code"
   },
   "outputs": [],
   "source": [
    "!python gradio_app.py"
   ]
  },
  {
   "cell_type": "markdown",
   "source": [
    "## Troubleshooting / Notes:\n",
    "* **Repo URL:** Make sure the repository URL in Step 1 is correct.\n",
    "* **Backend Logs:** The cell for launching the backend (Step 3) will show its logs. If you encounter issues, check these logs.\n",
    "* **Gradio URL:** The Gradio app (Step 4) will output a URL like `Running on local URL:  http://127.0.0.1:7860` or `Running on public URL: https://....gradio.live`. Use this URL to access the UI.\n",
    "* **Stopping the servers:** To stop the servers, you'll need to interrupt the execution of the cells (usually by clicking the stop button next to the cell or from the 'Runtime' menu in Colab).\n",
    "* **Resource Limits:** Colab has resource limits. If the application is too demanding, you might encounter issues."
   ],
   "metadata": {
    "id": "troubleshooting_markdown"
   }
  }
 ]
}
